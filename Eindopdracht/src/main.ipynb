{
 "cells": [
  {
   "attachments": {},
   "cell_type": "markdown",
   "metadata": {},
   "source": [
    "Jupyter notebook file to test model, without having to rerun everything"
   ]
  },
  {
   "attachments": {},
   "cell_type": "markdown",
   "metadata": {},
   "source": [
    "Import libraries"
   ]
  },
  {
   "cell_type": "code",
   "execution_count": 59,
   "metadata": {},
   "outputs": [],
   "source": [
    "from skimage.viewer import ImageViewer\n",
    "from skimage.io import imread\n",
    "from skimage.color import rgb2gray\n",
    "from skimage import feature\n",
    "from skimage.filters import gaussian\n",
    "\n",
    "import numpy as np\n",
    "import matplotlib.pyplot as plt\n",
    "import os\n",
    "import cv2\n",
    "\n",
    "import random\n",
    "\n",
    "from keras.models import Sequential\n",
    "from keras.layers import Conv2D, MaxPooling2D, Dense, Flatten, Activation\n",
    "from keras.utils import to_categorical"
   ]
  },
  {
   "attachments": {},
   "cell_type": "markdown",
   "metadata": {},
   "source": [
    "Preprocessing filters"
   ]
  },
  {
   "cell_type": "code",
   "execution_count": 60,
   "metadata": {},
   "outputs": [
    {
     "name": "stderr",
     "output_type": "stream",
     "text": [
      "C:\\Users\\emmar\\AppData\\Local\\Temp\\ipykernel_18960\\2925268095.py:10: FutureWarning: `multichannel` is a deprecated argument name for `gaussian`. It will be removed in version 1.0. Please use `channel_axis` instead.\n",
      "  gaussian_filter = gaussian(image, multichannel=True, sigma=2)\n"
     ]
    }
   ],
   "source": [
    "image = imread(\"C:/Users/emmar/Documents/GitHub/VISN/Opdracht_1/flower.jpg\")\n",
    "\n",
    "#grayscale\n",
    "image_gray = rgb2gray(image)\n",
    "\n",
    "#edge detection\n",
    "canny_filter = feature.canny(image_gray, sigma=2) \n",
    "\n",
    "#gaussian filter                    #for rgb image\n",
    "gaussian_filter = gaussian(image, multichannel=True, sigma=2) \n",
    "\n",
    "# viewer = ImageViewer(image)\n",
    "# viewer.show()\n",
    "\n",
    "# viewer = ImageViewer(image_gray)\n",
    "# viewer.show()\n",
    "\n",
    "# viewer = ImageViewer(canny_filter)\n",
    "# viewer.show()\n",
    "\n",
    "# viewer = ImageViewer(gaussian_filter)\n",
    "# viewer.show()"
   ]
  },
  {
   "attachments": {},
   "cell_type": "markdown",
   "metadata": {},
   "source": [
    "Loading in the dataset\n",
    "Dataset used for this project from: https://www.kaggle.com/datasets/grassknoted/asl-alphabet?resource=download\n",
    "Tutorial: https://www.youtube.com/watch?v=j-3vuBynnOE"
   ]
  },
  {
   "cell_type": "code",
   "execution_count": 61,
   "metadata": {},
   "outputs": [
    {
     "name": "stdout",
     "output_type": "stream",
     "text": [
      "A\n",
      "B\n",
      "C\n",
      "D\n",
      "E\n",
      "F\n",
      "G\n",
      "H\n",
      "I\n",
      "J\n",
      "K\n",
      "L\n",
      "M\n",
      "N\n",
      "O\n",
      "P\n",
      "Q\n",
      "R\n",
      "S\n",
      "T\n",
      "U\n",
      "V\n",
      "W\n",
      "X\n",
      "Y\n",
      "Z\n",
      "del\n",
      "nothing\n",
      "space\n"
     ]
    }
   ],
   "source": [
    "dataset_dir = \"C:/Users/emmar/Documents/GitHub/VISN/Eindopdracht/dataset/asl_alphabet_train/asl_alphabet_train\"\n",
    "letters = ['A', 'B', 'C', 'D', 'E', 'F', 'G', 'H', 'I', 'J', 'K', 'L', 'M', 'N', 'O', 'P', 'Q', 'R', 'S', 'T', 'U', 'V', 'W', 'X', 'Y', 'Z', 'del', 'nothing', 'space']\n",
    "\n",
    "training_data = []\n",
    "\n",
    "for letter in letters:\n",
    "    #get directory of a certain letter\n",
    "    path = os.path.join(dataset_dir, letter)\n",
    "\n",
    "    #create number for each letter\n",
    "    letter_num = letters.index(letter)\n",
    "    print(letter)\n",
    "    \n",
    "    for image in os.listdir(path):\n",
    "        #get one image\n",
    "        image_array = cv2.imread(os.path.join(path, image), cv2.IMREAD_GRAYSCALE)\n",
    "\n",
    "        #compress the image to a smaller resolution\n",
    "        image_size = 50\n",
    "        compressed_image_array = cv2.resize(image_array, (image_size, image_size))\n",
    "\n",
    "        #add canny filter\n",
    "        # canny_filter_image = feature.canny(compressed_image_array, sigma=3)\n",
    "\n",
    "        #add gaussian filter\n",
    "        # gaussian_filter_image = gaussian(compressed_image_array, sigma=2)\n",
    "\n",
    "        #add new image to the training set\n",
    "        training_data.append([compressed_image_array, letter_num])"
   ]
  },
  {
   "attachments": {},
   "cell_type": "markdown",
   "metadata": {},
   "source": [
    "Formating the train and test data"
   ]
  },
  {
   "cell_type": "code",
   "execution_count": 62,
   "metadata": {},
   "outputs": [
    {
     "data": {
      "image/png": "[encoded data removed]",
      "text/plain": [
       "<Figure size 640x480 with 1 Axes>"
      ]
     },
     "metadata": {},
     "output_type": "display_data"
    }
   ],
   "source": [
    "#randomize the images\n",
    "random.shuffle(training_data)\n",
    "\n",
    "plt.imshow(training_data[0][0])\n",
    "\n",
    "train_images = []\n",
    "train_labels = []\n",
    "\n",
    "test_data_size = 10000\n",
    "\n",
    "test_images = []\n",
    "test_labels = []\n",
    "\n",
    "#separate images and labels into the testing dataset\n",
    "#(the first 10.000) and the training dataset (the rest)\n",
    "\n",
    "#TODO can this be done easier? split?\n",
    "for i in range(len(training_data)):\n",
    "    if i < test_data_size:\n",
    "        test_images.append(training_data[i][0])\n",
    "        test_labels.append(training_data[i][1])\n",
    "    else:\n",
    "        train_images.append(training_data[i][0])\n",
    "        train_labels.append(training_data[i][1])\n",
    "\n",
    "#reshape train and test images\n",
    "train_images = np.array(train_images).reshape(-1, image_size, image_size, 1)\n",
    "test_images = np.array(test_images).reshape(-1, image_size, image_size, 1)\n",
    "\n",
    "#normalize the images\n",
    "train_images = (train_images / 255) - 0.5\n",
    "test_images = (test_images / 255) - 0.5\n",
    "\n",
    "#normalize the images canny\n",
    "# train_images = train_images - 0.5\n",
    "# test_images = test_images - 0.5"
   ]
  },
  {
   "attachments": {},
   "cell_type": "markdown",
   "metadata": {},
   "source": [
    "Training and testing the CNN"
   ]
  },
  {
   "cell_type": "code",
   "execution_count": 83,
   "metadata": {},
   "outputs": [
    {
     "name": "stdout",
     "output_type": "stream",
     "text": [
      "Epoch 1/10\n",
      "2046/2046 [==============================] - 79s 39ms/step - loss: 1.4910 - accuracy: 0.5570 - val_loss: 0.7621 - val_accuracy: 0.7596\n",
      "Epoch 2/10\n",
      "2046/2046 [==============================] - 82s 40ms/step - loss: 0.5441 - accuracy: 0.8252 - val_loss: 0.4216 - val_accuracy: 0.8676\n",
      "Epoch 3/10\n",
      "2046/2046 [==============================] - 79s 38ms/step - loss: 0.3363 - accuracy: 0.8901 - val_loss: 0.2620 - val_accuracy: 0.9161\n",
      "Epoch 4/10\n",
      "2046/2046 [==============================] - 83s 41ms/step - loss: 0.2402 - accuracy: 0.9206 - val_loss: 0.2244 - val_accuracy: 0.9293\n",
      "Epoch 5/10\n",
      "2046/2046 [==============================] - 79s 39ms/step - loss: 0.1875 - accuracy: 0.9375 - val_loss: 0.1757 - val_accuracy: 0.9419\n",
      "Epoch 6/10\n",
      "2046/2046 [==============================] - 76s 37ms/step - loss: 0.1487 - accuracy: 0.9508 - val_loss: 0.1489 - val_accuracy: 0.9516\n",
      "Epoch 7/10\n",
      "2046/2046 [==============================] - 78s 38ms/step - loss: 0.1274 - accuracy: 0.9582 - val_loss: 0.1201 - val_accuracy: 0.9628\n",
      "Epoch 8/10\n",
      "2046/2046 [==============================] - 79s 39ms/step - loss: 0.1063 - accuracy: 0.9650 - val_loss: 0.1006 - val_accuracy: 0.9654\n",
      "Epoch 9/10\n",
      "2046/2046 [==============================] - 78s 38ms/step - loss: 0.0958 - accuracy: 0.9686 - val_loss: 0.1325 - val_accuracy: 0.9576\n",
      "Epoch 10/10\n",
      "2046/2046 [==============================] - 79s 38ms/step - loss: 0.0837 - accuracy: 0.9732 - val_loss: 0.0970 - val_accuracy: 0.9686\n",
      "313/313 - 3s - loss: 0.1071 - accuracy: 0.9682 - 3s/epoch - 9ms/step\n",
      "0.9682000279426575\n"
     ]
    }
   ],
   "source": [
    "num_filters = 20\n",
    "filter_size = 3\n",
    "pool_size = 2\n",
    "num_epochs = 10\n",
    "\n",
    "model = Sequential([\n",
    "    Conv2D(num_filters, filter_size, activation='relu', input_shape=train_images[0].shape),\n",
    "    MaxPooling2D(pool_size=pool_size),\n",
    "\n",
    "    Conv2D(num_filters, filter_size, activation='relu'),\n",
    "    MaxPooling2D(pool_size=pool_size),\n",
    "\n",
    "    Conv2D(num_filters, filter_size, activation='relu'),\n",
    "    MaxPooling2D(pool_size=pool_size),\n",
    "\n",
    "    Flatten(),\n",
    "    Dense(29, activation=\"sigmoid\", name=\"dense\")\n",
    "])\n",
    "\n",
    "model.compile('adam', loss='categorical_crossentropy', metrics=['accuracy'])\n",
    "\n",
    "model.fit(train_images, to_categorical(train_labels), epochs=num_epochs, validation_split=0.15)\n",
    "\n",
    "test_loss, test_acc = model.evaluate(test_images,  to_categorical(test_labels), verbose=2)\n",
    "print(test_acc)"
   ]
  },
  {
   "attachments": {},
   "cell_type": "markdown",
   "metadata": {},
   "source": [
    "Testing the model"
   ]
  },
  {
   "cell_type": "code",
   "execution_count": 84,
   "metadata": {},
   "outputs": [
    {
     "name": "stdout",
     "output_type": "stream",
     "text": [
      "1/1 [==============================] - 0s 72ms/step\n",
      "A\n",
      "1/1 [==============================] - 0s 21ms/step\n",
      "B\n",
      "1/1 [==============================] - 0s 64ms/step\n",
      "C\n",
      "1/1 [==============================] - 0s 31ms/step\n",
      "D\n",
      "1/1 [==============================] - 0s 20ms/step\n",
      "E\n",
      "1/1 [==============================] - 0s 24ms/step\n",
      "F\n",
      "1/1 [==============================] - 0s 24ms/step\n",
      "G\n",
      "1/1 [==============================] - 0s 26ms/step\n",
      "H\n",
      "1/1 [==============================] - 0s 33ms/step\n",
      "I\n",
      "1/1 [==============================] - 0s 38ms/step\n",
      "J\n",
      "1/1 [==============================] - 0s 37ms/step\n",
      "K\n",
      "1/1 [==============================] - 0s 28ms/step\n",
      "L\n",
      "1/1 [==============================] - 0s 28ms/step\n",
      "M\n",
      "1/1 [==============================] - 0s 24ms/step\n",
      "N\n",
      "1/1 [==============================] - 0s 27ms/step\n",
      "O\n",
      "1/1 [==============================] - 0s 27ms/step\n",
      "P\n",
      "1/1 [==============================] - 0s 40ms/step\n",
      "C\n",
      "1/1 [==============================] - 0s 27ms/step\n",
      "R\n",
      "1/1 [==============================] - 0s 32ms/step\n",
      "S\n",
      "1/1 [==============================] - 0s 28ms/step\n",
      "T\n",
      "1/1 [==============================] - 0s 30ms/step\n",
      "U\n",
      "1/1 [==============================] - 0s 28ms/step\n",
      "V\n",
      "1/1 [==============================] - 0s 26ms/step\n",
      "K\n",
      "1/1 [==============================] - 0s 29ms/step\n",
      "X\n",
      "1/1 [==============================] - 0s 29ms/step\n",
      "Y\n",
      "1/1 [==============================] - 0s 32ms/step\n",
      "Z\n"
     ]
    }
   ],
   "source": [
    "predict_letters = ['A', 'B', 'C', 'D', 'E', 'F', 'G', 'H', 'I', 'J', 'K', 'L', 'M', 'N', 'O', 'P', 'Q', 'R', 'S', 'T', 'U', 'V', 'W', 'X', 'Y', 'Z']\n",
    "\n",
    "for letter in predict_letters:\n",
    "    # print(letter)\n",
    "    path = \"C:/Users/emmar/Documents/GitHub/VISN/Eindopdracht/dataset/asl_alphabet_test/asl_alphabet_test/\"+letter+\"_test.jpg\"\n",
    "    image_to_predict = cv2.imread(path, cv2.IMREAD_GRAYSCALE)\n",
    "    compressed_image_to_predict = cv2.resize(image_to_predict, (image_size, image_size))\n",
    "    reshaped_image_to_predict = compressed_image_to_predict.reshape(-1, image_size, image_size, 1)\n",
    "    normalized_image_to_predict = (reshaped_image_to_predict / 255) - 0.5\n",
    "\n",
    "    prediction = model.predict(normalized_image_to_predict)\n",
    "    predicted_letter = list(prediction[0]).index(max(prediction[0]))\n",
    "    # print(prediction)\n",
    "    print(predict_letters[predicted_letter])"
   ]
  }
 ],
 "metadata": {
  "kernelspec": {
   "display_name": "Python 3",
   "language": "python",
   "name": "python3"
  },
  "language_info": {
   "codemirror_mode": {
    "name": "ipython",
    "version": 3
   },
   "file_extension": ".py",
   "mimetype": "text/x-python",
   "name": "python",
   "nbconvert_exporter": "python",
   "pygments_lexer": "ipython3",
   "version": "3.10.5"
  },
  "orig_nbformat": 4
 },
 "nbformat": 4,
 "nbformat_minor": 2
}
