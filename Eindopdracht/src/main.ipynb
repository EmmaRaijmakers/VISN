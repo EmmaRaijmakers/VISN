{
 "cells": [
  {
   "attachments": {},
   "cell_type": "markdown",
   "metadata": {},
   "source": [
    "Jupyter notebook file to test model, without having to rerun everything"
   ]
  },
  {
   "attachments": {},
   "cell_type": "markdown",
   "metadata": {},
   "source": [
    "Import libraries"
   ]
  },
  {
   "cell_type": "code",
   "execution_count": 113,
   "metadata": {},
   "outputs": [],
   "source": [
    "from skimage.viewer import ImageViewer\n",
    "from skimage.io import imread\n",
    "from skimage.color import rgb2gray\n",
    "from skimage import feature\n",
    "from skimage.filters import gaussian\n",
    "\n",
    "import numpy as np\n",
    "import matplotlib.pyplot as plt\n",
    "import os\n",
    "import cv2\n",
    "\n",
    "import random\n",
    "\n",
    "from keras.models import Sequential\n",
    "from keras.layers import Conv2D, MaxPooling2D, Dense, Flatten, Activation, RandomCrop, RandomFlip, RandomTranslation, RandomRotation, RandomZoom, RandomContrast, RandomBrightness\n",
    "from keras.utils import to_categorical"
   ]
  },
  {
   "attachments": {},
   "cell_type": "markdown",
   "metadata": {},
   "source": [
    "Preprocessing filters"
   ]
  },
  {
   "cell_type": "code",
   "execution_count": 114,
   "metadata": {},
   "outputs": [
    {
     "name": "stderr",
     "output_type": "stream",
     "text": [
      "C:\\Users\\emmar\\AppData\\Local\\Temp\\ipykernel_18960\\2925268095.py:10: FutureWarning: `multichannel` is a deprecated argument name for `gaussian`. It will be removed in version 1.0. Please use `channel_axis` instead.\n",
      "  gaussian_filter = gaussian(image, multichannel=True, sigma=2)\n"
     ]
    }
   ],
   "source": [
    "#load test image\n",
    "image = imread(\"C:/Users/emmar/Documents/GitHub/VISN/Opdracht_1/flower.jpg\")\n",
    "\n",
    "#grayscale\n",
    "image_gray = rgb2gray(image)\n",
    "\n",
    "#edge detection\n",
    "canny_filter = feature.canny(image_gray, sigma=2) \n",
    "\n",
    "#gaussian filter                    #for rgb image\n",
    "gaussian_filter = gaussian(image, multichannel=True, sigma=2) \n",
    "\n",
    "# viewer = ImageViewer(image)\n",
    "# viewer.show()\n",
    "\n",
    "# viewer = ImageViewer(image_gray)\n",
    "# viewer.show()\n",
    "\n",
    "# viewer = ImageViewer(canny_filter)\n",
    "# viewer.show()\n",
    "\n",
    "# viewer = ImageViewer(gaussian_filter)\n",
    "# viewer.show()"
   ]
  },
  {
   "attachments": {},
   "cell_type": "markdown",
   "metadata": {},
   "source": [
    "Loading in the dataset\n",
    "Dataset used for this project from: https://www.kaggle.com/datasets/grassknoted/asl-alphabet?resource=download\n",
    "Tutorial: https://www.youtube.com/watch?v=j-3vuBynnOE"
   ]
  },
  {
   "cell_type": "code",
   "execution_count": 115,
   "metadata": {},
   "outputs": [
    {
     "name": "stdout",
     "output_type": "stream",
     "text": [
      "A\n",
      "B\n",
      "C\n",
      "D\n",
      "E\n",
      "F\n",
      "G\n",
      "H\n",
      "I\n",
      "J\n",
      "K\n",
      "L\n",
      "M\n",
      "N\n",
      "O\n",
      "P\n",
      "Q\n",
      "R\n",
      "S\n",
      "T\n",
      "U\n",
      "V\n",
      "W\n",
      "X\n",
      "Y\n",
      "Z\n",
      "del\n",
      "nothing\n",
      "space\n"
     ]
    }
   ],
   "source": [
    "dataset_dir = \"C:/Users/emmar/Documents/GitHub/VISN/Eindopdracht/dataset/asl_alphabet_train/asl_alphabet_train\"\n",
    "letters = ['A', 'B', 'C', 'D', 'E', 'F', 'G', 'H', 'I', 'J', 'K', 'L', 'M', 'N', 'O', 'P', 'Q', 'R', 'S', 'T', 'U', 'V', 'W', 'X', 'Y', 'Z', 'del', 'nothing', 'space']\n",
    "\n",
    "training_data = []\n",
    "\n",
    "for letter in letters:\n",
    "    #get directory of a certain letter\n",
    "    path = os.path.join(dataset_dir, letter)\n",
    "\n",
    "    #create number for each letter\n",
    "    letter_num = letters.index(letter)\n",
    "    print(letter)\n",
    "    \n",
    "    for image in os.listdir(path):\n",
    "        #get one image\n",
    "        image_array = cv2.imread(os.path.join(path, image), cv2.IMREAD_GRAYSCALE)\n",
    "\n",
    "        #compress the image to a smaller resolution\n",
    "        image_size = 50\n",
    "        compressed_image_array = cv2.resize(image_array, (image_size, image_size))\n",
    "\n",
    "        #add canny filter\n",
    "        # canny_filter_image = feature.canny(compressed_image_array, sigma=3)\n",
    "\n",
    "        #add gaussian filter\n",
    "        # gaussian_filter_image = gaussian(compressed_image_array, sigma=2)\n",
    "\n",
    "        #add new image to the training set\n",
    "        training_data.append([compressed_image_array, letter_num])"
   ]
  },
  {
   "attachments": {},
   "cell_type": "markdown",
   "metadata": {},
   "source": [
    "Formating the train and test data"
   ]
  },
  {
   "cell_type": "code",
   "execution_count": 116,
   "metadata": {},
   "outputs": [
    {
     "data": {
      "image/png": "[encoded data removed]",
      "text/plain": [
       "<Figure size 640x480 with 1 Axes>"
      ]
     },
     "metadata": {},
     "output_type": "display_data"
    }
   ],
   "source": [
    "#randomize the images\n",
    "random.shuffle(training_data)\n",
    "\n",
    "plt.imshow(training_data[0][0])\n",
    "\n",
    "train_images = []\n",
    "train_labels = []\n",
    "\n",
    "test_data_size = 10000\n",
    "\n",
    "test_images = []\n",
    "test_labels = []\n",
    "\n",
    "#separate images and labels into the testing dataset\n",
    "#(the first 10.000) and the training dataset (the rest)\n",
    "\n",
    "#TODO can this be done easier? split?\n",
    "for i in range(len(training_data)):\n",
    "    if i < test_data_size:\n",
    "        test_images.append(training_data[i][0])\n",
    "        test_labels.append(training_data[i][1])\n",
    "    else:\n",
    "        train_images.append(training_data[i][0])\n",
    "        train_labels.append(training_data[i][1])\n",
    "\n",
    "#reshape train and test images\n",
    "train_images = np.array(train_images).reshape(-1, image_size, image_size, 1)\n",
    "test_images = np.array(test_images).reshape(-1, image_size, image_size, 1)\n",
    "\n",
    "#normalize the images\n",
    "train_images = (train_images / 255) - 0.5\n",
    "test_images = (test_images / 255) - 0.5\n",
    "\n",
    "#normalize the images canny\n",
    "# train_images = train_images - 0.5\n",
    "# test_images = test_images - 0.5"
   ]
  },
  {
   "attachments": {},
   "cell_type": "markdown",
   "metadata": {},
   "source": [
    "Training and testing the CNN"
   ]
  },
  {
   "cell_type": "code",
   "execution_count": 118,
   "metadata": {},
   "outputs": [
    {
     "name": "stdout",
     "output_type": "stream",
     "text": [
      "Epoch 1/20\n",
      "WARNING:tensorflow:Using a while_loop for converting RngReadAndSkip cause there is no registered converter for this op.\n"
     ]
    },
    {
     "name": "stderr",
     "output_type": "stream",
     "text": [
      "WARNING:tensorflow:Using a while_loop for converting RngReadAndSkip cause there is no registered converter for this op.\n"
     ]
    },
    {
     "name": "stdout",
     "output_type": "stream",
     "text": [
      "WARNING:tensorflow:Using a while_loop for converting Bitcast cause there is no registered converter for this op.\n"
     ]
    },
    {
     "name": "stderr",
     "output_type": "stream",
     "text": [
      "WARNING:tensorflow:Using a while_loop for converting Bitcast cause there is no registered converter for this op.\n"
     ]
    },
    {
     "name": "stdout",
     "output_type": "stream",
     "text": [
      "WARNING:tensorflow:Using a while_loop for converting Bitcast cause there is no registered converter for this op.\n"
     ]
    },
    {
     "name": "stderr",
     "output_type": "stream",
     "text": [
      "WARNING:tensorflow:Using a while_loop for converting Bitcast cause there is no registered converter for this op.\n"
     ]
    },
    {
     "name": "stdout",
     "output_type": "stream",
     "text": [
      "WARNING:tensorflow:Using a while_loop for converting StatelessRandomUniformFullIntV2 cause there is no registered converter for this op.\n"
     ]
    },
    {
     "name": "stderr",
     "output_type": "stream",
     "text": [
      "WARNING:tensorflow:Using a while_loop for converting StatelessRandomUniformFullIntV2 cause there is no registered converter for this op.\n"
     ]
    },
    {
     "name": "stdout",
     "output_type": "stream",
     "text": [
      "WARNING:tensorflow:Using a while_loop for converting StatelessRandomGetKeyCounter cause there is no registered converter for this op.\n"
     ]
    },
    {
     "name": "stderr",
     "output_type": "stream",
     "text": [
      "WARNING:tensorflow:Using a while_loop for converting StatelessRandomGetKeyCounter cause there is no registered converter for this op.\n"
     ]
    },
    {
     "name": "stdout",
     "output_type": "stream",
     "text": [
      "WARNING:tensorflow:Using a while_loop for converting StatelessRandomUniformV2 cause there is no registered converter for this op.\n"
     ]
    },
    {
     "name": "stderr",
     "output_type": "stream",
     "text": [
      "WARNING:tensorflow:Using a while_loop for converting StatelessRandomUniformV2 cause there is no registered converter for this op.\n"
     ]
    },
    {
     "name": "stdout",
     "output_type": "stream",
     "text": [
      "WARNING:tensorflow:Using a while_loop for converting AdjustContrastv2 cause Input \"contrast_factor\" of op 'AdjustContrastv2' expected to be loop invariant.\n"
     ]
    },
    {
     "name": "stderr",
     "output_type": "stream",
     "text": [
      "WARNING:tensorflow:Using a while_loop for converting AdjustContrastv2 cause Input \"contrast_factor\" of op 'AdjustContrastv2' expected to be loop invariant.\n"
     ]
    },
    {
     "name": "stdout",
     "output_type": "stream",
     "text": [
      "WARNING:tensorflow:Using a while_loop for converting RngReadAndSkip cause there is no registered converter for this op.\n"
     ]
    },
    {
     "name": "stderr",
     "output_type": "stream",
     "text": [
      "WARNING:tensorflow:Using a while_loop for converting RngReadAndSkip cause there is no registered converter for this op.\n"
     ]
    },
    {
     "name": "stdout",
     "output_type": "stream",
     "text": [
      "WARNING:tensorflow:Using a while_loop for converting Bitcast cause there is no registered converter for this op.\n"
     ]
    },
    {
     "name": "stderr",
     "output_type": "stream",
     "text": [
      "WARNING:tensorflow:Using a while_loop for converting Bitcast cause there is no registered converter for this op.\n"
     ]
    },
    {
     "name": "stdout",
     "output_type": "stream",
     "text": [
      "WARNING:tensorflow:Using a while_loop for converting Bitcast cause there is no registered converter for this op.\n"
     ]
    },
    {
     "name": "stderr",
     "output_type": "stream",
     "text": [
      "WARNING:tensorflow:Using a while_loop for converting Bitcast cause there is no registered converter for this op.\n"
     ]
    },
    {
     "name": "stdout",
     "output_type": "stream",
     "text": [
      "WARNING:tensorflow:Using a while_loop for converting StatelessRandomUniformV2 cause there is no registered converter for this op.\n"
     ]
    },
    {
     "name": "stderr",
     "output_type": "stream",
     "text": [
      "WARNING:tensorflow:Using a while_loop for converting StatelessRandomUniformV2 cause there is no registered converter for this op.\n"
     ]
    },
    {
     "name": "stdout",
     "output_type": "stream",
     "text": [
      "WARNING:tensorflow:Using a while_loop for converting RngReadAndSkip cause there is no registered converter for this op.\n"
     ]
    },
    {
     "name": "stderr",
     "output_type": "stream",
     "text": [
      "WARNING:tensorflow:Using a while_loop for converting RngReadAndSkip cause there is no registered converter for this op.\n"
     ]
    },
    {
     "name": "stdout",
     "output_type": "stream",
     "text": [
      "WARNING:tensorflow:Using a while_loop for converting Bitcast cause there is no registered converter for this op.\n"
     ]
    },
    {
     "name": "stderr",
     "output_type": "stream",
     "text": [
      "WARNING:tensorflow:Using a while_loop for converting Bitcast cause there is no registered converter for this op.\n"
     ]
    },
    {
     "name": "stdout",
     "output_type": "stream",
     "text": [
      "WARNING:tensorflow:Using a while_loop for converting Bitcast cause there is no registered converter for this op.\n"
     ]
    },
    {
     "name": "stderr",
     "output_type": "stream",
     "text": [
      "WARNING:tensorflow:Using a while_loop for converting Bitcast cause there is no registered converter for this op.\n"
     ]
    },
    {
     "name": "stdout",
     "output_type": "stream",
     "text": [
      "WARNING:tensorflow:Using a while_loop for converting StatelessRandomUniformFullIntV2 cause there is no registered converter for this op.\n"
     ]
    },
    {
     "name": "stderr",
     "output_type": "stream",
     "text": [
      "WARNING:tensorflow:Using a while_loop for converting StatelessRandomUniformFullIntV2 cause there is no registered converter for this op.\n"
     ]
    },
    {
     "name": "stdout",
     "output_type": "stream",
     "text": [
      "WARNING:tensorflow:Using a while_loop for converting StatelessRandomGetKeyCounter cause there is no registered converter for this op.\n"
     ]
    },
    {
     "name": "stderr",
     "output_type": "stream",
     "text": [
      "WARNING:tensorflow:Using a while_loop for converting StatelessRandomGetKeyCounter cause there is no registered converter for this op.\n"
     ]
    },
    {
     "name": "stdout",
     "output_type": "stream",
     "text": [
      "WARNING:tensorflow:Using a while_loop for converting StatelessRandomUniformV2 cause there is no registered converter for this op.\n"
     ]
    },
    {
     "name": "stderr",
     "output_type": "stream",
     "text": [
      "WARNING:tensorflow:Using a while_loop for converting StatelessRandomUniformV2 cause there is no registered converter for this op.\n"
     ]
    },
    {
     "name": "stdout",
     "output_type": "stream",
     "text": [
      "WARNING:tensorflow:Using a while_loop for converting AdjustContrastv2 cause Input \"contrast_factor\" of op 'AdjustContrastv2' expected to be loop invariant.\n"
     ]
    },
    {
     "name": "stderr",
     "output_type": "stream",
     "text": [
      "WARNING:tensorflow:Using a while_loop for converting AdjustContrastv2 cause Input \"contrast_factor\" of op 'AdjustContrastv2' expected to be loop invariant.\n"
     ]
    },
    {
     "name": "stdout",
     "output_type": "stream",
     "text": [
      "WARNING:tensorflow:Using a while_loop for converting RngReadAndSkip cause there is no registered converter for this op.\n"
     ]
    },
    {
     "name": "stderr",
     "output_type": "stream",
     "text": [
      "WARNING:tensorflow:Using a while_loop for converting RngReadAndSkip cause there is no registered converter for this op.\n"
     ]
    },
    {
     "name": "stdout",
     "output_type": "stream",
     "text": [
      "WARNING:tensorflow:Using a while_loop for converting Bitcast cause there is no registered converter for this op.\n"
     ]
    },
    {
     "name": "stderr",
     "output_type": "stream",
     "text": [
      "WARNING:tensorflow:Using a while_loop for converting Bitcast cause there is no registered converter for this op.\n"
     ]
    },
    {
     "name": "stdout",
     "output_type": "stream",
     "text": [
      "WARNING:tensorflow:Using a while_loop for converting Bitcast cause there is no registered converter for this op.\n"
     ]
    },
    {
     "name": "stderr",
     "output_type": "stream",
     "text": [
      "WARNING:tensorflow:Using a while_loop for converting Bitcast cause there is no registered converter for this op.\n"
     ]
    },
    {
     "name": "stdout",
     "output_type": "stream",
     "text": [
      "WARNING:tensorflow:Using a while_loop for converting StatelessRandomUniformV2 cause there is no registered converter for this op.\n"
     ]
    },
    {
     "name": "stderr",
     "output_type": "stream",
     "text": [
      "WARNING:tensorflow:Using a while_loop for converting StatelessRandomUniformV2 cause there is no registered converter for this op.\n"
     ]
    },
    {
     "name": "stdout",
     "output_type": "stream",
     "text": [
      "WARNING:tensorflow:Using a while_loop for converting RngReadAndSkip cause there is no registered converter for this op.\n"
     ]
    },
    {
     "name": "stderr",
     "output_type": "stream",
     "text": [
      "WARNING:tensorflow:Using a while_loop for converting RngReadAndSkip cause there is no registered converter for this op.\n"
     ]
    },
    {
     "name": "stdout",
     "output_type": "stream",
     "text": [
      "WARNING:tensorflow:Using a while_loop for converting Bitcast cause there is no registered converter for this op.\n"
     ]
    },
    {
     "name": "stderr",
     "output_type": "stream",
     "text": [
      "WARNING:tensorflow:Using a while_loop for converting Bitcast cause there is no registered converter for this op.\n"
     ]
    },
    {
     "name": "stdout",
     "output_type": "stream",
     "text": [
      "WARNING:tensorflow:Using a while_loop for converting Bitcast cause there is no registered converter for this op.\n"
     ]
    },
    {
     "name": "stderr",
     "output_type": "stream",
     "text": [
      "WARNING:tensorflow:Using a while_loop for converting Bitcast cause there is no registered converter for this op.\n"
     ]
    },
    {
     "name": "stdout",
     "output_type": "stream",
     "text": [
      "WARNING:tensorflow:Using a while_loop for converting StatelessRandomUniformFullIntV2 cause there is no registered converter for this op.\n"
     ]
    },
    {
     "name": "stderr",
     "output_type": "stream",
     "text": [
      "WARNING:tensorflow:Using a while_loop for converting StatelessRandomUniformFullIntV2 cause there is no registered converter for this op.\n"
     ]
    },
    {
     "name": "stdout",
     "output_type": "stream",
     "text": [
      "WARNING:tensorflow:Using a while_loop for converting StatelessRandomGetKeyCounter cause there is no registered converter for this op.\n"
     ]
    },
    {
     "name": "stderr",
     "output_type": "stream",
     "text": [
      "WARNING:tensorflow:Using a while_loop for converting StatelessRandomGetKeyCounter cause there is no registered converter for this op.\n"
     ]
    },
    {
     "name": "stdout",
     "output_type": "stream",
     "text": [
      "WARNING:tensorflow:Using a while_loop for converting StatelessRandomUniformV2 cause there is no registered converter for this op.\n"
     ]
    },
    {
     "name": "stderr",
     "output_type": "stream",
     "text": [
      "WARNING:tensorflow:Using a while_loop for converting StatelessRandomUniformV2 cause there is no registered converter for this op.\n"
     ]
    },
    {
     "name": "stdout",
     "output_type": "stream",
     "text": [
      "WARNING:tensorflow:Using a while_loop for converting AdjustContrastv2 cause Input \"contrast_factor\" of op 'AdjustContrastv2' expected to be loop invariant.\n"
     ]
    },
    {
     "name": "stderr",
     "output_type": "stream",
     "text": [
      "WARNING:tensorflow:Using a while_loop for converting AdjustContrastv2 cause Input \"contrast_factor\" of op 'AdjustContrastv2' expected to be loop invariant.\n"
     ]
    },
    {
     "name": "stdout",
     "output_type": "stream",
     "text": [
      "WARNING:tensorflow:Using a while_loop for converting RngReadAndSkip cause there is no registered converter for this op.\n"
     ]
    },
    {
     "name": "stderr",
     "output_type": "stream",
     "text": [
      "WARNING:tensorflow:Using a while_loop for converting RngReadAndSkip cause there is no registered converter for this op.\n"
     ]
    },
    {
     "name": "stdout",
     "output_type": "stream",
     "text": [
      "WARNING:tensorflow:Using a while_loop for converting Bitcast cause there is no registered converter for this op.\n"
     ]
    },
    {
     "name": "stderr",
     "output_type": "stream",
     "text": [
      "WARNING:tensorflow:Using a while_loop for converting Bitcast cause there is no registered converter for this op.\n"
     ]
    },
    {
     "name": "stdout",
     "output_type": "stream",
     "text": [
      "WARNING:tensorflow:Using a while_loop for converting Bitcast cause there is no registered converter for this op.\n"
     ]
    },
    {
     "name": "stderr",
     "output_type": "stream",
     "text": [
      "WARNING:tensorflow:Using a while_loop for converting Bitcast cause there is no registered converter for this op.\n"
     ]
    },
    {
     "name": "stdout",
     "output_type": "stream",
     "text": [
      "WARNING:tensorflow:Using a while_loop for converting StatelessRandomUniformV2 cause there is no registered converter for this op.\n"
     ]
    },
    {
     "name": "stderr",
     "output_type": "stream",
     "text": [
      "WARNING:tensorflow:Using a while_loop for converting StatelessRandomUniformV2 cause there is no registered converter for this op.\n"
     ]
    },
    {
     "name": "stdout",
     "output_type": "stream",
     "text": [
      "2046/2046 [==============================] - 110s 52ms/step - loss: 1.4121 - accuracy: 0.5914 - val_loss: 7.3418 - val_accuracy: 0.3454\n",
      "Epoch 2/20\n",
      "2046/2046 [==============================] - 111s 54ms/step - loss: 0.5041 - accuracy: 0.8467 - val_loss: 9.2069 - val_accuracy: 0.3860\n",
      "Epoch 3/20\n",
      "2046/2046 [==============================] - 108s 53ms/step - loss: 0.3297 - accuracy: 0.8987 - val_loss: 10.4730 - val_accuracy: 0.3906\n",
      "Epoch 4/20\n",
      "2046/2046 [==============================] - 103s 50ms/step - loss: 0.2521 - accuracy: 0.9214 - val_loss: 10.6197 - val_accuracy: 0.4281\n",
      "Epoch 5/20\n",
      "2046/2046 [==============================] - 106s 52ms/step - loss: 0.2011 - accuracy: 0.9387 - val_loss: 12.7482 - val_accuracy: 0.4051\n",
      "Epoch 6/20\n",
      "2046/2046 [==============================] - 104s 51ms/step - loss: 0.1720 - accuracy: 0.9472 - val_loss: 12.8432 - val_accuracy: 0.4227\n",
      "Epoch 7/20\n",
      "2046/2046 [==============================] - 103s 50ms/step - loss: 0.1471 - accuracy: 0.9549 - val_loss: 13.4327 - val_accuracy: 0.4328\n",
      "Epoch 8/20\n",
      "2046/2046 [==============================] - 103s 50ms/step - loss: 0.1254 - accuracy: 0.9617 - val_loss: 12.8294 - val_accuracy: 0.4584\n",
      "Epoch 9/20\n",
      "2046/2046 [==============================] - 108s 53ms/step - loss: 0.1123 - accuracy: 0.9658 - val_loss: 14.0288 - val_accuracy: 0.4565\n",
      "Epoch 10/20\n",
      "2046/2046 [==============================] - 104s 51ms/step - loss: 0.1054 - accuracy: 0.9683 - val_loss: 12.4561 - val_accuracy: 0.4718\n",
      "Epoch 11/20\n",
      "2046/2046 [==============================] - 109s 53ms/step - loss: 0.0852 - accuracy: 0.9743 - val_loss: 12.7679 - val_accuracy: 0.4886\n",
      "Epoch 12/20\n",
      "2046/2046 [==============================] - 107s 53ms/step - loss: 0.0851 - accuracy: 0.9743 - val_loss: 14.1375 - val_accuracy: 0.4638\n",
      "Epoch 13/20\n",
      "2046/2046 [==============================] - 110s 54ms/step - loss: 0.0759 - accuracy: 0.9779 - val_loss: 16.7215 - val_accuracy: 0.4490\n",
      "Epoch 14/20\n",
      "2046/2046 [==============================] - 110s 54ms/step - loss: 0.0716 - accuracy: 0.9781 - val_loss: 15.2282 - val_accuracy: 0.4667\n",
      "Epoch 15/20\n",
      "2046/2046 [==============================] - 111s 54ms/step - loss: 0.0649 - accuracy: 0.9811 - val_loss: 13.9529 - val_accuracy: 0.4863\n",
      "Epoch 16/20\n",
      "2046/2046 [==============================] - 113s 55ms/step - loss: 0.0670 - accuracy: 0.9803 - val_loss: 13.4846 - val_accuracy: 0.4849\n",
      "Epoch 17/20\n",
      "2046/2046 [==============================] - 109s 53ms/step - loss: 0.0532 - accuracy: 0.9843 - val_loss: 14.3203 - val_accuracy: 0.4958\n",
      "Epoch 18/20\n",
      "2046/2046 [==============================] - 105s 51ms/step - loss: 0.0566 - accuracy: 0.9829 - val_loss: 15.4290 - val_accuracy: 0.4906\n",
      "Epoch 19/20\n",
      "2046/2046 [==============================] - 111s 54ms/step - loss: 0.0479 - accuracy: 0.9859 - val_loss: 16.4972 - val_accuracy: 0.4726\n",
      "Epoch 20/20\n",
      "2046/2046 [==============================] - 121s 59ms/step - loss: 0.0499 - accuracy: 0.9854 - val_loss: 15.4557 - val_accuracy: 0.4888\n",
      "313/313 - 4s - loss: 15.2958 - accuracy: 0.4774 - 4s/epoch - 12ms/step\n",
      "0.477400004863739\n"
     ]
    }
   ],
   "source": [
    "#setting the model variables\n",
    "num_filters = 30\n",
    "filter_size = 3\n",
    "pool_size = 2\n",
    "num_epochs = 20\n",
    "\n",
    "#creating the model and adding the layers\n",
    "model = Sequential([\n",
    "\n",
    "    RandomContrast(0.2),\n",
    "    RandomBrightness(0.2, value_range=(-0.5, 0.5)),\n",
    "\n",
    "    Conv2D(num_filters, filter_size, input_shape=train_images[0].shape),\n",
    "    MaxPooling2D(pool_size=pool_size),\n",
    "\n",
    "    Conv2D(num_filters, filter_size, activation='relu'),\n",
    "    MaxPooling2D(pool_size=pool_size),\n",
    "\n",
    "    Flatten(),\n",
    "    Dense(29, activation=\"sigmoid\", name=\"dense\")\n",
    "])\n",
    "\n",
    "model.compile('adam', loss='categorical_crossentropy', metrics=['accuracy'])\n",
    "\n",
    "#training the model\n",
    "model.fit(train_images, to_categorical(train_labels), epochs=num_epochs, validation_split=0.15)\n",
    "\n",
    "#testing the model\n",
    "test_loss, test_acc = model.evaluate(test_images,  to_categorical(test_labels), verbose=2)\n",
    "print(test_acc)"
   ]
  },
  {
   "attachments": {},
   "cell_type": "markdown",
   "metadata": {},
   "source": [
    "Testing the model"
   ]
  },
  {
   "cell_type": "code",
   "execution_count": 120,
   "metadata": {},
   "outputs": [
    {
     "name": "stdout",
     "output_type": "stream",
     "text": [
      "1/1 [==============================] - 0s 25ms/step\n",
      "A\n",
      "1/1 [==============================] - 0s 29ms/step\n",
      "B\n",
      "1/1 [==============================] - 0s 24ms/step\n",
      "C\n",
      "1/1 [==============================] - 0s 28ms/step\n",
      "D\n",
      "1/1 [==============================] - 0s 30ms/step\n",
      "E\n",
      "1/1 [==============================] - 0s 24ms/step\n",
      "F\n",
      "1/1 [==============================] - 0s 27ms/step\n",
      "P\n",
      "1/1 [==============================] - 0s 28ms/step\n",
      "H\n",
      "1/1 [==============================] - 0s 23ms/step\n",
      "D\n",
      "1/1 [==============================] - 0s 23ms/step\n",
      "P\n",
      "1/1 [==============================] - 0s 30ms/step\n",
      "K\n",
      "1/1 [==============================] - 0s 29ms/step\n",
      "L\n",
      "1/1 [==============================] - 0s 25ms/step\n",
      "M\n",
      "1/1 [==============================] - 0s 24ms/step\n",
      "N\n",
      "1/1 [==============================] - 0s 24ms/step\n",
      "O\n",
      "1/1 [==============================] - 0s 30ms/step\n",
      "P\n",
      "1/1 [==============================] - 0s 22ms/step\n",
      "Q\n",
      "1/1 [==============================] - 0s 24ms/step\n",
      "L\n",
      "1/1 [==============================] - 0s 21ms/step\n",
      "L\n",
      "1/1 [==============================] - 0s 22ms/step\n",
      "L\n",
      "1/1 [==============================] - 0s 21ms/step\n",
      "U\n",
      "1/1 [==============================] - 0s 22ms/step\n",
      "W\n",
      "1/1 [==============================] - 0s 21ms/step\n",
      "W\n",
      "1/1 [==============================] - 0s 21ms/step\n",
      "L\n",
      "1/1 [==============================] - 0s 20ms/step\n",
      "Y\n",
      "1/1 [==============================] - 0s 25ms/step\n",
      "Z\n"
     ]
    }
   ],
   "source": [
    "#for each letter\n",
    "for i in range(len(letters) - 3):\n",
    "    #open the test image version of the letter\n",
    "    path = \"C:/Users/emmar/Documents/GitHub/VISN/Eindopdracht/dataset/asl_alphabet_test/asl_alphabet_test/\"+letters[i]+\"_test.jpg\"\n",
    "    image_to_predict = cv2.imread(path, cv2.IMREAD_GRAYSCALE)\n",
    "\n",
    "    #preprocess the image the same as images used for training\n",
    "    compressed_image_to_predict = cv2.resize(image_to_predict, (image_size, image_size))\n",
    "    reshaped_image_to_predict = compressed_image_to_predict.reshape(-1, image_size, image_size, 1)\n",
    "    normalized_image_to_predict = (reshaped_image_to_predict / 255) - 0.5\n",
    "\n",
    "    #predict the letter\n",
    "    prediction = model.predict(normalized_image_to_predict)\n",
    "\n",
    "    #print the actual letter instead of percentages\n",
    "    predicted_letter = list(prediction[0]).index(max(prediction[0]))\n",
    "    # print(prediction)\n",
    "    print(letters[predicted_letter])"
   ]
  },
  {
   "attachments": {},
   "cell_type": "markdown",
   "metadata": {},
   "source": [
    "Testing the model with the captured dataset"
   ]
  },
  {
   "cell_type": "code",
   "execution_count": 122,
   "metadata": {},
   "outputs": [
    {
     "name": "stdout",
     "output_type": "stream",
     "text": [
      "1/1 [==============================] - 0s 36ms/step\n",
      "A\n",
      "1/1 [==============================] - 0s 25ms/step\n",
      "W\n",
      "1/1 [==============================] - 0s 23ms/step\n",
      "D\n",
      "1/1 [==============================] - 0s 30ms/step\n",
      "F\n",
      "1/1 [==============================] - 0s 26ms/step\n",
      "D\n",
      "1/1 [==============================] - 0s 23ms/step\n",
      "F\n",
      "1/1 [==============================] - 0s 25ms/step\n",
      "G\n",
      "1/1 [==============================] - 0s 25ms/step\n",
      "Y\n",
      "1/1 [==============================] - 0s 28ms/step\n",
      "W\n",
      "1/1 [==============================] - 0s 34ms/step\n",
      "G\n",
      "1/1 [==============================] - 0s 49ms/step\n",
      "W\n",
      "1/1 [==============================] - 0s 24ms/step\n",
      "D\n",
      "1/1 [==============================] - 0s 22ms/step\n",
      "W\n",
      "1/1 [==============================] - 0s 31ms/step\n",
      "W\n",
      "1/1 [==============================] - 0s 27ms/step\n",
      "D\n",
      "1/1 [==============================] - 0s 25ms/step\n",
      "D\n",
      "1/1 [==============================] - 0s 21ms/step\n",
      "G\n",
      "1/1 [==============================] - 0s 20ms/step\n",
      "W\n",
      "1/1 [==============================] - 0s 20ms/step\n",
      "B\n",
      "1/1 [==============================] - 0s 22ms/step\n",
      "D\n",
      "1/1 [==============================] - 0s 23ms/step\n",
      "W\n",
      "1/1 [==============================] - 0s 24ms/step\n",
      "W\n",
      "1/1 [==============================] - 0s 21ms/step\n",
      "W\n",
      "1/1 [==============================] - 0s 26ms/step\n",
      "W\n",
      "1/1 [==============================] - 0s 31ms/step\n",
      "F\n",
      "1/1 [==============================] - 0s 29ms/step\n",
      "F\n"
     ]
    }
   ],
   "source": [
    "#for each letter\n",
    "for i in range(len(letters) - 3):\n",
    "    #open the test capture image version of the letter\n",
    "    path = \"C:/Users/emmar/Documents/GitHub/VISN/Eindopdracht/dataset/asl_alphabet_test/als_alphabet_test_captures/\"+letters[i]+\"_test.jpg\"\n",
    "    image_to_predict = cv2.imread(path, cv2.IMREAD_GRAYSCALE)\n",
    "\n",
    "    #preprocess the image the same as images used for training\n",
    "    compressed_image_to_predict = cv2.resize(image_to_predict, (image_size, image_size))\n",
    "    reshaped_image_to_predict = compressed_image_to_predict.reshape(-1, image_size, image_size, 1)\n",
    "    normalized_image_to_predict = (reshaped_image_to_predict / 255) - 0.5\n",
    "\n",
    "    #predict the letter\n",
    "    prediction = model.predict(normalized_image_to_predict)\n",
    "\n",
    "    #print the actual letter instead of percentages\n",
    "    predicted_letter = list(prediction[0]).index(max(prediction[0]))\n",
    "    # print(prediction)\n",
    "    print(letters[predicted_letter])"
   ]
  },
  {
   "attachments": {},
   "cell_type": "markdown",
   "metadata": {},
   "source": [
    "Save the model"
   ]
  },
  {
   "cell_type": "code",
   "execution_count": 108,
   "metadata": {},
   "outputs": [],
   "source": [
    "model.save(\"ASL_model.keras\")"
   ]
  }
 ],
 "metadata": {
  "kernelspec": {
   "display_name": "Python 3",
   "language": "python",
   "name": "python3"
  },
  "language_info": {
   "codemirror_mode": {
    "name": "ipython",
    "version": 3
   },
   "file_extension": ".py",
   "mimetype": "text/x-python",
   "name": "python",
   "nbconvert_exporter": "python",
   "pygments_lexer": "ipython3",
   "version": "3.10.5"
  },
  "orig_nbformat": 4
 },
 "nbformat": 4,
 "nbformat_minor": 2
}
