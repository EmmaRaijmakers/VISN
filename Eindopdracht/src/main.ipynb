{
 "cells": [
  {
   "attachments": {},
   "cell_type": "markdown",
   "metadata": {},
   "source": [
    "Jupyter notebook file to test model, without having to rerun everything"
   ]
  },
  {
   "attachments": {},
   "cell_type": "markdown",
   "metadata": {},
   "source": [
    "Import libraries"
   ]
  },
  {
   "cell_type": "code",
   "execution_count": 6,
   "metadata": {},
   "outputs": [],
   "source": [
    "from skimage.viewer import ImageViewer\n",
    "from skimage.io import imread\n",
    "from skimage.color import rgb2gray\n",
    "from skimage import feature\n",
    "from skimage.filters import gaussian\n",
    "\n",
    "import numpy as np\n",
    "import matplotlib.pyplot as plt\n",
    "import os\n",
    "import cv2\n",
    "\n",
    "import random\n",
    "\n",
    "from keras.models import Sequential\n",
    "from keras.layers import Conv2D, MaxPooling2D, Dense, Flatten, Activation\n",
    "from keras.utils import to_categorical"
   ]
  },
  {
   "attachments": {},
   "cell_type": "markdown",
   "metadata": {},
   "source": [
    "Preprocessing filters"
   ]
  },
  {
   "cell_type": "code",
   "execution_count": 7,
   "metadata": {},
   "outputs": [
    {
     "name": "stderr",
     "output_type": "stream",
     "text": [
      "C:\\Users\\emmar\\AppData\\Local\\Temp\\ipykernel_18960\\2644223124.py:10: FutureWarning: `multichannel` is a deprecated argument name for `gaussian`. It will be removed in version 1.0. Please use `channel_axis` instead.\n",
      "  gaussian_filter = gaussian(image, multichannel=True, sigma=2) #TODO change sigma\n"
     ]
    }
   ],
   "source": [
    "image = imread(\"C:/Users/emmar/Documents/GitHub/VISN/Opdracht_1/flower.jpg\")\n",
    "\n",
    "#grayscale\n",
    "image_gray = rgb2gray(image)\n",
    "\n",
    "#edge detection\n",
    "canny_filter = feature.canny(image_gray, sigma=2) \n",
    "\n",
    "#gaussian filter                    #for rgb image\n",
    "gaussian_filter = gaussian(image, multichannel=True, sigma=2) \n",
    "\n",
    "# viewer = ImageViewer(image)\n",
    "# viewer.show()\n",
    "\n",
    "# viewer = ImageViewer(image_gray)\n",
    "# viewer.show()\n",
    "\n",
    "# viewer = ImageViewer(canny_filter)\n",
    "# viewer.show()\n",
    "\n",
    "# viewer = ImageViewer(gaussian_filter)\n",
    "# viewer.show()"
   ]
  },
  {
   "attachments": {},
   "cell_type": "markdown",
   "metadata": {},
   "source": [
    "Loading in the dataset\n",
    "Dataset used for this project from: https://www.kaggle.com/datasets/grassknoted/asl-alphabet?resource=download\n",
    "Tutorial: https://www.youtube.com/watch?v=j-3vuBynnOE"
   ]
  },
  {
   "cell_type": "code",
   "execution_count": 8,
   "metadata": {},
   "outputs": [
    {
     "name": "stdout",
     "output_type": "stream",
     "text": [
      "A\n",
      "B\n",
      "C\n",
      "D\n",
      "E\n",
      "F\n",
      "G\n",
      "H\n",
      "I\n",
      "J\n",
      "K\n",
      "L\n",
      "M\n",
      "N\n",
      "O\n",
      "P\n",
      "Q\n",
      "R\n",
      "S\n",
      "T\n",
      "U\n",
      "V\n",
      "W\n",
      "X\n",
      "Y\n",
      "Z\n",
      "del\n",
      "nothing\n",
      "space\n"
     ]
    }
   ],
   "source": [
    "dataset_dir = \"C:/Users/emmar/Documents/GitHub/VISN/Eindopdracht/dataset/asl_alphabet_train/asl_alphabet_train\"\n",
    "letters = ['A', 'B', 'C', 'D', 'E', 'F', 'G', 'H', 'I', 'J', 'K', 'L', 'M', 'N', 'O', 'P', 'Q', 'R', 'S', 'T', 'U', 'V', 'W', 'X', 'Y', 'Z', 'del', 'nothing', 'space']\n",
    "\n",
    "training_data = []\n",
    "\n",
    "for letter in letters:\n",
    "    #get directory of a certain letter\n",
    "    path = os.path.join(dataset_dir, letter)\n",
    "\n",
    "    #create number for each letter\n",
    "    letter_num = letters.index(letter)\n",
    "    print(letter)\n",
    "    \n",
    "    for image in os.listdir(path):\n",
    "        #get one image\n",
    "        image_array = cv2.imread(os.path.join(path, image), cv2.IMREAD_GRAYSCALE)\n",
    "\n",
    "        #compress the image to a smaller resolution\n",
    "        image_size = 50\n",
    "        compressed_image_array = cv2.resize(image_array, (image_size, image_size))\n",
    "\n",
    "        #add canny filter\n",
    "        # canny_filter_image = feature.canny(compressed_image_array, sigma=3)\n",
    "\n",
    "        #add gaussian filter\n",
    "        # gaussian_filter_image = gaussian(compressed_image_array, sigma=2)\n",
    "\n",
    "        #add new image to the training set\n",
    "        training_data.append([compressed_image_array, letter_num])"
   ]
  },
  {
   "attachments": {},
   "cell_type": "markdown",
   "metadata": {},
   "source": [
    "Formating the train and test data"
   ]
  },
  {
   "cell_type": "code",
   "execution_count": 9,
   "metadata": {},
   "outputs": [
    {
     "data": {
      "image/png": "[encoded data removed]",
      "text/plain": [
       "<Figure size 640x480 with 1 Axes>"
      ]
     },
     "metadata": {},
     "output_type": "display_data"
    }
   ],
   "source": [
    "#randomize the images\n",
    "random.shuffle(training_data)\n",
    "\n",
    "plt.imshow(training_data[0][0])\n",
    "\n",
    "train_images = []\n",
    "train_labels = []\n",
    "\n",
    "test_data_size = 10000\n",
    "\n",
    "test_images = []\n",
    "test_labels = []\n",
    "\n",
    "#separate images and labels into the testing dataset\n",
    "#(the first 10.000) and the training dataset (the rest)\n",
    "\n",
    "#TODO can this be done easier? split?\n",
    "for i in range(len(training_data)):\n",
    "    if i < test_data_size:\n",
    "        test_images.append(training_data[i][0])\n",
    "        test_labels.append(training_data[i][1])\n",
    "    else:\n",
    "        train_images.append(training_data[i][0])\n",
    "        train_labels.append(training_data[i][1])\n",
    "\n",
    "#reshape train and test images\n",
    "train_images = np.array(train_images).reshape(-1, image_size, image_size, 1)\n",
    "test_images = np.array(test_images).reshape(-1, image_size, image_size, 1)\n",
    "\n",
    "#normalize the images\n",
    "train_images = (train_images / 255) - 0.5\n",
    "test_images = (test_images / 255) - 0.5\n",
    "\n",
    "#normalize the images canny\n",
    "# train_images = train_images - 0.5\n",
    "# test_images = test_images - 0.5"
   ]
  },
  {
   "attachments": {},
   "cell_type": "markdown",
   "metadata": {},
   "source": [
    "Training and testing the CNN"
   ]
  },
  {
   "cell_type": "code",
   "execution_count": 10,
   "metadata": {},
   "outputs": [
    {
     "name": "stdout",
     "output_type": "stream",
     "text": [
      "Epoch 1/50\n",
      "2407/2407 [==============================] - 32s 13ms/step - loss: 1.6279 - accuracy: 0.5426 - val_loss: 1.0107 - val_accuracy: 0.7203\n",
      "Epoch 2/50\n",
      "2407/2407 [==============================] - 31s 13ms/step - loss: 0.7440 - accuracy: 0.7945 - val_loss: 0.6022 - val_accuracy: 0.8376\n",
      "Epoch 3/50\n",
      "2407/2407 [==============================] - 32s 13ms/step - loss: 0.4757 - accuracy: 0.8704 - val_loss: 0.4343 - val_accuracy: 0.8797\n",
      "Epoch 4/50\n",
      "2407/2407 [==============================] - 32s 13ms/step - loss: 0.3361 - accuracy: 0.9096 - val_loss: 0.3455 - val_accuracy: 0.8987\n",
      "Epoch 5/50\n",
      "2407/2407 [==============================] - 33s 14ms/step - loss: 0.2567 - accuracy: 0.9315 - val_loss: 0.2846 - val_accuracy: 0.9192\n",
      "Epoch 6/50\n",
      "2407/2407 [==============================] - 32s 13ms/step - loss: 0.2017 - accuracy: 0.9476 - val_loss: 0.2333 - val_accuracy: 0.9329\n",
      "Epoch 7/50\n",
      "2407/2407 [==============================] - 33s 14ms/step - loss: 0.1647 - accuracy: 0.9575 - val_loss: 0.2266 - val_accuracy: 0.9297\n",
      "Epoch 8/50\n",
      "2407/2407 [==============================] - 33s 14ms/step - loss: 0.1359 - accuracy: 0.9652 - val_loss: 0.1813 - val_accuracy: 0.9461\n",
      "Epoch 9/50\n",
      "2407/2407 [==============================] - 40s 16ms/step - loss: 0.1172 - accuracy: 0.9705 - val_loss: 0.1782 - val_accuracy: 0.9471\n",
      "Epoch 10/50\n",
      "2407/2407 [==============================] - 36s 15ms/step - loss: 0.0983 - accuracy: 0.9754 - val_loss: 0.1429 - val_accuracy: 0.9581\n",
      "Epoch 11/50\n",
      "2407/2407 [==============================] - 32s 13ms/step - loss: 0.0857 - accuracy: 0.9785 - val_loss: 0.1476 - val_accuracy: 0.9571\n",
      "Epoch 12/50\n",
      "2407/2407 [==============================] - 33s 14ms/step - loss: 0.0768 - accuracy: 0.9811 - val_loss: 0.1336 - val_accuracy: 0.9623\n",
      "Epoch 13/50\n",
      "2407/2407 [==============================] - 32s 13ms/step - loss: 0.0663 - accuracy: 0.9839 - val_loss: 0.1241 - val_accuracy: 0.9625\n",
      "Epoch 14/50\n",
      "2407/2407 [==============================] - 35s 14ms/step - loss: 0.0583 - accuracy: 0.9862 - val_loss: 0.1290 - val_accuracy: 0.9591\n",
      "Epoch 15/50\n",
      "2407/2407 [==============================] - 33s 14ms/step - loss: 0.0540 - accuracy: 0.9872 - val_loss: 0.1092 - val_accuracy: 0.9692\n",
      "Epoch 16/50\n",
      "2407/2407 [==============================] - 33s 14ms/step - loss: 0.0484 - accuracy: 0.9886 - val_loss: 0.1393 - val_accuracy: 0.9566\n",
      "Epoch 17/50\n",
      "2407/2407 [==============================] - 32s 13ms/step - loss: 0.0457 - accuracy: 0.9891 - val_loss: 0.1060 - val_accuracy: 0.9652\n",
      "Epoch 18/50\n",
      "2407/2407 [==============================] - 32s 13ms/step - loss: 0.0414 - accuracy: 0.9899 - val_loss: 0.1005 - val_accuracy: 0.9685\n",
      "Epoch 19/50\n",
      "2407/2407 [==============================] - 32s 13ms/step - loss: 0.0364 - accuracy: 0.9918 - val_loss: 0.0997 - val_accuracy: 0.9700\n",
      "Epoch 20/50\n",
      "2407/2407 [==============================] - 33s 14ms/step - loss: 0.0358 - accuracy: 0.9914 - val_loss: 0.1068 - val_accuracy: 0.9658\n",
      "Epoch 21/50\n",
      "2407/2407 [==============================] - 33s 14ms/step - loss: 0.0304 - accuracy: 0.9931 - val_loss: 0.1225 - val_accuracy: 0.9588\n",
      "Epoch 22/50\n",
      "2407/2407 [==============================] - 33s 14ms/step - loss: 0.0291 - accuracy: 0.9932 - val_loss: 0.1025 - val_accuracy: 0.9715\n",
      "Epoch 23/50\n",
      "2407/2407 [==============================] - 33s 14ms/step - loss: 0.0287 - accuracy: 0.9931 - val_loss: 0.1571 - val_accuracy: 0.9520\n",
      "Epoch 24/50\n",
      "2407/2407 [==============================] - 32s 13ms/step - loss: 0.0244 - accuracy: 0.9945 - val_loss: 0.0930 - val_accuracy: 0.9703\n",
      "Epoch 25/50\n",
      "2407/2407 [==============================] - 32s 13ms/step - loss: 0.0243 - accuracy: 0.9943 - val_loss: 0.1038 - val_accuracy: 0.9690\n",
      "Epoch 26/50\n",
      "2407/2407 [==============================] - 32s 13ms/step - loss: 0.0233 - accuracy: 0.9947 - val_loss: 0.1048 - val_accuracy: 0.9673\n",
      "Epoch 27/50\n",
      "2407/2407 [==============================] - 32s 13ms/step - loss: 0.0222 - accuracy: 0.9947 - val_loss: 0.0893 - val_accuracy: 0.9723\n",
      "Epoch 28/50\n",
      "2407/2407 [==============================] - 36s 15ms/step - loss: 0.0210 - accuracy: 0.9951 - val_loss: 0.0886 - val_accuracy: 0.9705\n",
      "Epoch 29/50\n",
      "2407/2407 [==============================] - 34s 14ms/step - loss: 0.0202 - accuracy: 0.9954 - val_loss: 0.0999 - val_accuracy: 0.9713\n",
      "Epoch 30/50\n",
      "2407/2407 [==============================] - 33s 14ms/step - loss: 0.0203 - accuracy: 0.9951 - val_loss: 0.0864 - val_accuracy: 0.9743\n",
      "Epoch 31/50\n",
      "2407/2407 [==============================] - 32s 13ms/step - loss: 0.0159 - accuracy: 0.9965 - val_loss: 0.1084 - val_accuracy: 0.9652\n",
      "Epoch 32/50\n",
      "2407/2407 [==============================] - 33s 14ms/step - loss: 0.0183 - accuracy: 0.9957 - val_loss: 0.0795 - val_accuracy: 0.9756\n",
      "Epoch 33/50\n",
      "2407/2407 [==============================] - 32s 13ms/step - loss: 0.0161 - accuracy: 0.9963 - val_loss: 0.1127 - val_accuracy: 0.9656\n",
      "Epoch 34/50\n",
      "2407/2407 [==============================] - 32s 13ms/step - loss: 0.0160 - accuracy: 0.9961 - val_loss: 0.1272 - val_accuracy: 0.9634\n",
      "Epoch 35/50\n",
      "2407/2407 [==============================] - 32s 13ms/step - loss: 0.0155 - accuracy: 0.9963 - val_loss: 0.0776 - val_accuracy: 0.9770\n",
      "Epoch 36/50\n",
      "2407/2407 [==============================] - 33s 14ms/step - loss: 0.0139 - accuracy: 0.9965 - val_loss: 0.0954 - val_accuracy: 0.9728\n",
      "Epoch 37/50\n",
      "2407/2407 [==============================] - 38s 16ms/step - loss: 0.0151 - accuracy: 0.9962 - val_loss: 0.1195 - val_accuracy: 0.9668\n",
      "Epoch 38/50\n",
      "2407/2407 [==============================] - 36s 15ms/step - loss: 0.0130 - accuracy: 0.9967 - val_loss: 0.1457 - val_accuracy: 0.9601\n",
      "Epoch 39/50\n",
      "2407/2407 [==============================] - 32s 13ms/step - loss: 0.0114 - accuracy: 0.9976 - val_loss: 0.1050 - val_accuracy: 0.9709\n",
      "Epoch 40/50\n",
      "2407/2407 [==============================] - 32s 13ms/step - loss: 0.0157 - accuracy: 0.9959 - val_loss: 0.0845 - val_accuracy: 0.9761\n",
      "Epoch 41/50\n",
      "2407/2407 [==============================] - 33s 14ms/step - loss: 0.0107 - accuracy: 0.9978 - val_loss: 0.0853 - val_accuracy: 0.9767\n",
      "Epoch 42/50\n",
      "2407/2407 [==============================] - 32s 13ms/step - loss: 0.0118 - accuracy: 0.9971 - val_loss: 0.1083 - val_accuracy: 0.9700\n",
      "Epoch 43/50\n",
      "2407/2407 [==============================] - 33s 14ms/step - loss: 0.0129 - accuracy: 0.9967 - val_loss: 0.1116 - val_accuracy: 0.9692\n",
      "Epoch 44/50\n",
      "2407/2407 [==============================] - 33s 14ms/step - loss: 0.0113 - accuracy: 0.9971 - val_loss: 0.1119 - val_accuracy: 0.9676\n",
      "Epoch 45/50\n",
      "2407/2407 [==============================] - 32s 13ms/step - loss: 0.0099 - accuracy: 0.9977 - val_loss: 0.1321 - val_accuracy: 0.9625\n",
      "Epoch 46/50\n",
      "2407/2407 [==============================] - 32s 13ms/step - loss: 0.0119 - accuracy: 0.9974 - val_loss: 0.0991 - val_accuracy: 0.9709\n",
      "Epoch 47/50\n",
      "2407/2407 [==============================] - 32s 13ms/step - loss: 0.0103 - accuracy: 0.9975 - val_loss: 0.0797 - val_accuracy: 0.9754\n",
      "Epoch 48/50\n",
      "2407/2407 [==============================] - 32s 13ms/step - loss: 0.0133 - accuracy: 0.9965 - val_loss: 0.1131 - val_accuracy: 0.9694\n",
      "Epoch 49/50\n",
      "2407/2407 [==============================] - 32s 13ms/step - loss: 0.0085 - accuracy: 0.9979 - val_loss: 0.0978 - val_accuracy: 0.9704\n",
      "Epoch 50/50\n",
      "2407/2407 [==============================] - 32s 13ms/step - loss: 0.0124 - accuracy: 0.9969 - val_loss: 0.1147 - val_accuracy: 0.9686\n",
      "313/313 - 2s - loss: 0.1147 - accuracy: 0.9686 - 2s/epoch - 5ms/step\n",
      "0.9685999751091003\n"
     ]
    }
   ],
   "source": [
    "num_filters = 10\n",
    "filter_size = 3\n",
    "pool_size = 2\n",
    "num_epochs = 50\n",
    "\n",
    "model = Sequential([\n",
    "    Conv2D(num_filters, filter_size, input_shape=train_images[0].shape),\n",
    "    MaxPooling2D(pool_size=pool_size),\n",
    "    Flatten(),\n",
    "    Dense(29, activation=\"sigmoid\", name=\"dense\")\n",
    "])\n",
    "\n",
    "model.compile('adam', loss='categorical_crossentropy', metrics=['accuracy'])\n",
    "\n",
    "model.fit(train_images, to_categorical(train_labels), epochs=num_epochs, validation_data=(test_images, to_categorical(test_labels)))\n",
    "\n",
    "test_loss, test_acc = model.evaluate(test_images,  to_categorical(test_labels), verbose=2)\n",
    "print(test_acc)"
   ]
  }
 ],
 "metadata": {
  "kernelspec": {
   "display_name": "Python 3",
   "language": "python",
   "name": "python3"
  },
  "language_info": {
   "codemirror_mode": {
    "name": "ipython",
    "version": 3
   },
   "file_extension": ".py",
   "mimetype": "text/x-python",
   "name": "python",
   "nbconvert_exporter": "python",
   "pygments_lexer": "ipython3",
   "version": "3.10.5"
  },
  "orig_nbformat": 4
 },
 "nbformat": 4,
 "nbformat_minor": 2
}
